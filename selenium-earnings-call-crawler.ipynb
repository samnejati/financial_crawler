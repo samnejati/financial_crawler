{
 "cells": [
  {
   "cell_type": "markdown",
   "metadata": {},
   "source": [
    "# Crawl Motly Fool links"
   ]
  },
  {
   "cell_type": "code",
   "execution_count": 1,
   "metadata": {},
   "outputs": [],
   "source": [
    "from selenium import webdriver\n",
    "from selenium.webdriver.chrome.options import Options\n",
    "from selenium.webdriver.common.by import By\n",
    "from selenium.webdriver.chrome.service import Service\n",
    "from webdriver_manager.chrome import ChromeDriverManager\n",
    "import time\n"
   ]
  },
  {
   "cell_type": "code",
   "execution_count": 4,
   "metadata": {},
   "outputs": [],
   "source": [
    "service = Service(executable_path=ChromeDriverManager().install())\n",
    "driver = webdriver.Chrome(service=service)\n",
    "driver.implicitly_wait(10)\n",
    "driver.get('https://www.fool.com/earnings-call-transcripts/')\n",
    "driver.find_element(By.ID, \"onetrust-accept-btn-handler\").click()\n",
    "time.sleep(5)\n",
    "\n",
    "try:\n",
    "    driver.find_element(By.CSS_SELECTOR, \"#modal-form > fieldset > ul:nth-child(3) > li:nth-child(1) > label > input\").click()\n",
    "    driver.find_element(By.CSS_SELECTOR, \"#modal-form > fieldset > ul:nth-child(5) > li:nth-child(1) > label > input\").click()\n",
    "    driver.find_element(By.CSS_SELECTOR, \"#gdpr-submit-button\").click()\n",
    "except:\n",
    "    pass\n",
    "\n",
    "time.sleep(3)\n",
    "while True:\n",
    "    \n",
    "    try:\n",
    "        element = driver.find_element(By.XPATH, \"/html/body/div[10]/div[2]/div[1]/section[2]/div/div/div[1]/div/div/button\")\n",
    "        driver.execute_script(\"arguments[0].click();\", element)\n",
    "\n",
    "        last_t_page = driver.find_element(By.XPATH,\"(//*[@class='text-gray-800 text-md'])[last()]\").text\n",
    "        text = \"SRAD earnings call for the period ending December 31, 2022.\"\n",
    "\n",
    "        # Extract the date using regular expressions\n",
    "        match = re.search(r\"\\b([A-Za-z]+)\\s(\\d{1,2}),\\s(\\d{4})\\b\", text)\n",
    "        month_str, day_str, year_str = match.groups()\n",
    "        date_str = f\"{month_str} {day_str}, {year_str}\"\n",
    "        date = datetime.strptime(date_str, \"%B %d, %Y\")\n",
    "\n",
    "        if date < datetime.strptime('2022-01-01', \"%Y-%m-%d\"):\n",
    "            break\n",
    "    except:\n",
    "        break\n",
    "time.sleep(5)\n",
    "list_of_article = driver.find_elements(By.XPATH, \"//*[@class='text-gray-1100']\")\n",
    "links_list = [link.get_attribute('href') for link in list_of_article]"
   ]
  },
  {
   "cell_type": "code",
   "execution_count": 6,
   "metadata": {},
   "outputs": [
    {
     "data": {
      "text/plain": [
       "['https://www.fool.com/earnings/call-transcripts/2023/03/21/huya-huya-q4-2022-earnings-call-transcript/',\n",
       " 'https://www.fool.com/earnings/call-transcripts/2023/03/21/citi-trends-ctrn-q4-2022-earnings-call-transcript/',\n",
       " 'https://www.fool.com/earnings/call-transcripts/2023/03/17/xpeng-xpev-q4-2022-earnings-call-transcript/',\n",
       " 'https://www.fool.com/earnings/call-transcripts/2023/03/17/algonquin-power-utilities-aqn-q4-2022-earnings-cal/',\n",
       " 'https://www.fool.com/earnings/call-transcripts/2023/03/17/traeger-cook-q4-2022-earnings-call-transcript/',\n",
       " 'https://www.fool.com/earnings/call-transcripts/2023/03/17/fedex-fdx-q3-2023-earnings-call-transcript/',\n",
       " 'https://www.fool.com/earnings/call-transcripts/2023/03/16/childrens-place-plce-q4-2022-earnings-call-transcr/',\n",
       " 'https://www.fool.com/earnings/call-transcripts/2023/03/16/geron-gern-q4-2022-earnings-call-transcript/',\n",
       " 'https://www.fool.com/earnings/call-transcripts/2023/03/16/academy-sports-and-outdoors-aso-q4-2022-earnings-c/',\n",
       " 'https://www.fool.com/earnings/call-transcripts/2023/03/16/dollar-general-dg-q4-2022-earnings-call-transcript/',\n",
       " 'https://www.fool.com/earnings/call-transcripts/2023/03/16/williams-sonoma-wsm-q4-2022-earnings-call-transcri/',\n",
       " 'https://www.fool.com/earnings/call-transcripts/2023/03/16/lands-end-le-q4-2022-earnings-call-transcript/',\n",
       " 'https://www.fool.com/earnings/call-transcripts/2023/03/16/signet-jewelers-sig-q4-2023-earnings-call-transcri/',\n",
       " 'https://www.fool.com/earnings/call-transcripts/2023/03/16/designer-brands-dbi-q4-2022-earnings-call-transcri/',\n",
       " 'https://www.fool.com/earnings/call-transcripts/2023/03/16/five-below-five-q4-2022-earnings-call-transcript/',\n",
       " 'https://www.fool.com/earnings/call-transcripts/2023/03/15/macrogenics-mgnx-q4-2022-earnings-call-transcript/',\n",
       " 'https://www.fool.com/earnings/call-transcripts/2023/03/15/uipath-path-q4-2023-earnings-call-transcript/',\n",
       " 'https://www.fool.com/earnings/call-transcripts/2023/03/15/lennar-len-q1-2023-earnings-call-transcript/',\n",
       " 'https://www.fool.com/earnings/call-transcripts/2023/03/15/oatly-group-ab-otly-q4-2022-earnings-call-transcri/',\n",
       " 'https://www.fool.com/earnings/call-transcripts/2023/03/15/sportradar-group-ag-srad-q4-2022-earnings-call-tra/']"
      ]
     },
     "execution_count": 6,
     "metadata": {},
     "output_type": "execute_result"
    }
   ],
   "source": [
    "links_list"
   ]
  },
  {
   "cell_type": "code",
   "execution_count": null,
   "metadata": {},
   "outputs": [],
   "source": []
  }
 ],
 "metadata": {
  "kernelspec": {
   "display_name": "Python 3",
   "language": "python",
   "name": "python3"
  },
  "language_info": {
   "codemirror_mode": {
    "name": "ipython",
    "version": 3
   },
   "file_extension": ".py",
   "mimetype": "text/x-python",
   "name": "python",
   "nbconvert_exporter": "python",
   "pygments_lexer": "ipython3",
   "version": "3.8.5"
  }
 },
 "nbformat": 4,
 "nbformat_minor": 5
}
